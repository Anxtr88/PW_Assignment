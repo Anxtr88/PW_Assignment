{
 "cells": [
  {
   "cell_type": "code",
   "execution_count": null,
   "id": "162d6ce3-a16f-4488-89e1-747bf6e59e8d",
   "metadata": {},
   "outputs": [],
   "source": [
    "Q1. What is a database? Differentiate between SQL and NoSQL databases.\n",
    "\n",
    "Answer: \n",
    "Database is an collection of data that is structured or unstructured.\n",
    "\n",
    "SQL: \n",
    "SQL databases use structured query language (SQL) and have a predefined schema. \n",
    "It stores data in tables with row & column.\n",
    "example: MySQL, Oracle, PostgreSQL\n",
    "\n",
    "NoSQL: \n",
    "NoSQL databases have dynamic schemas for unstructured data. \n",
    "It stores data in folder/document.\n",
    "example: MongoDB, Cassandra, Neo4j"
   ]
  },
  {
   "cell_type": "code",
   "execution_count": null,
   "id": "bcf1ae36-48e8-479a-8762-f96f68b65b62",
   "metadata": {},
   "outputs": [],
   "source": [
    "Q2. What is DDL? Explain why CREATE, DROP, ALTER, and TRUNCATE are used with an example.\n",
    "\n",
    "Answer:\n",
    "DDL stands for Data Defination Language which is used to create and modify the schema of the database.\n",
    "DDL consist of Commands like CREATE, ALTER, TRUNCATE and DROP.\n",
    "1. CREATE: It is used to create a new table in database\n",
    "Ex:\n",
    "CREATE table employee (\n",
    "Emp_id int,\n",
    "Name varchar(50),\n",
    "Address varchar(255),\n",
    ");\n",
    "\n",
    "2. DROP:  The DROP TABLE command deletes a table in the database.\n",
    "ex:\n",
    "DROP TABLE employee;\n",
    "\n",
    "3. ALTER: The ALTER TABLE command adds, deletes, or modifies columns in a table.\n",
    "ex:\n",
    "ALTER TABLE employee\n",
    "ADD Email varchar(255);\n",
    "\n",
    "4. TRUNCATE: The TRUNCATE command deletes the data inside a table, but not the table itself.\n",
    "ex:\n",
    "TRUNCATE TABLE Categories;"
   ]
  },
  {
   "cell_type": "code",
   "execution_count": null,
   "id": "61e44f5a-447b-473d-9a8c-ef6cf5aaeb7f",
   "metadata": {},
   "outputs": [],
   "source": [
    "Q3. What is DML? Explain INSERT, UPDATE, and DELETE with an example.\n",
    "\n",
    "Answer:\n",
    "DML (Data Manuplation Language) it is used to manipulation of data present in the database\n",
    "    \n",
    "1. INSERT: The INSERT statement is used to insert new records in a table.\n",
    "Ex:\n",
    "INSERT INTO employee\n",
    "values (12, 'pwskills', 'India', 'test@test.com')\n",
    "\n",
    "2. UPDATE: The UPDATE statement is used to modify the existing records in a table.\n",
    "Ex: \n",
    "UPDATE employee\n",
    "SET Name = 'Vedica'\n",
    "WHERE emp_id = 12;\n",
    "\n",
    "3. DELETE: The DELETE statement is used to delete existing records in a table.\n",
    "Ex: \n",
    "DELETE FROM employee WHERE Name='Vedica';\n"
   ]
  },
  {
   "cell_type": "code",
   "execution_count": null,
   "id": "a5131fd9-12bc-4999-b256-6135b16a2b45",
   "metadata": {},
   "outputs": [],
   "source": [
    "Q4. What is DQL? Explain SELECT with an example.\n",
    "\n",
    "Answer:\n",
    "DQL (Data Query Language)\n",
    "\n",
    "1. SELECT: The SELECT statement is used to retrieve data from a database.\n",
    "Ex:\n",
    "SELECT * from employee;\n",
    "\n",
    "SELECT Name, Emp_id from employee;\n",
    "\n"
   ]
  },
  {
   "cell_type": "code",
   "execution_count": null,
   "id": "7c85f47c-7c28-43df-b5bd-323ea3a8b7c1",
   "metadata": {},
   "outputs": [],
   "source": [
    "Q5. Explain Primary Key and Foreign Key.\n",
    "\n",
    "Answer:\n",
    "Primary Key:\n",
    "    \n",
    "The PRIMARY KEY is a uniquely identifies each record in a table.\n",
    "It contain UNIQUE values, and cannot contain NULL values.\n",
    "A table can have only ONE primary key; and in the table,\n",
    "this primary key can consist of single or multiple columns (fields).\n",
    "    \n",
    "Foreign Key: \n",
    "\n",
    "A foreign key is generally used to build a relationship between the two tables. \n",
    "A foreign key can accept NULL values. \n",
    "A foreign key column in a table points to a column with unique values in another table \n",
    "(often the primary key column)\n"
   ]
  },
  {
   "cell_type": "code",
   "execution_count": null,
   "id": "065945e6-91dd-4c2b-8803-35257e85e123",
   "metadata": {},
   "outputs": [],
   "source": [
    "Q6. Write a python code to connect MySQL to python. Explain the cursor() and execute() method.\n",
    "\n",
    "Answer:\n",
    "\n",
    "import mySQL.connector\n",
    "\n",
    "mydb = mysql.connector.connect(\n",
    " host = \"localhost\",\n",
    " user = \"abc\",\n",
    " password = \"password\"\n",
    ")\n",
    "mycursor = mydb.cursor()\n",
    "\n",
    "cursor(): it enable Python code to execute SQL queries in database session\n",
    "execute(): It is used to pass SQL command that has to be executed.\n",
    "\n"
   ]
  },
  {
   "cell_type": "code",
   "execution_count": null,
   "id": "ed909c7b-ac36-46f9-bfbe-c47f138687c7",
   "metadata": {},
   "outputs": [],
   "source": [
    "Q7. Give the order of execution of SQL clauses in an SQL query.\n",
    "\n",
    "Answer:\n",
    "Order of execution in SQL query is processed in the following steps:\n",
    "\n",
    "Getting Data (FROM/JOIN)\n",
    "Row Filter (WHERE)\n",
    "Grouping (GROUP BY)\n",
    "Group Filter (HAVING)\n",
    "Return Expression (SELECT)\n",
    "Order & Paging (ORDER BY & LIMIT/OFFSET)\n"
   ]
  }
 ],
 "metadata": {
  "kernelspec": {
   "display_name": "Python 3 (ipykernel)",
   "language": "python",
   "name": "python3"
  },
  "language_info": {
   "codemirror_mode": {
    "name": "ipython",
    "version": 3
   },
   "file_extension": ".py",
   "mimetype": "text/x-python",
   "name": "python",
   "nbconvert_exporter": "python",
   "pygments_lexer": "ipython3",
   "version": "3.10.8"
  }
 },
 "nbformat": 4,
 "nbformat_minor": 5
}
