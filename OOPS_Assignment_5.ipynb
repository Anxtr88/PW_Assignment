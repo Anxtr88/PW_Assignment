{
 "cells": [
  {
   "cell_type": "markdown",
   "id": "8d8bb53f-35b2-4e77-adb6-906a09850bfc",
   "metadata": {},
   "source": [
    "### Q1. Explain Class and Object with respect to Object-Oriented Programming. Give a suitable example."
   ]
  },
  {
   "cell_type": "markdown",
   "id": "c94473c3-96c1-4bc3-ae3d-f25c06dcc448",
   "metadata": {},
   "source": [
    "A class is a blueprint for creating objects. Object is an instance of a class. \n",
    "All data members and member functions of the class can be accessed with the help of objects. \n",
    "When a class is defined, no memory is allocated, but memory is allocated when it is instantiated.\n",
    "\n",
    "class student:\n",
    "    \n",
    "    def course(self):\n",
    "        return (\"Student course\")\n",
    "    \n",
    "stu = student()    #stu is object for class student\n",
    "stu.course()"
   ]
  },
  {
   "cell_type": "markdown",
   "id": "ebe751cf-cd60-4135-9d3b-6feeb039beff",
   "metadata": {},
   "source": [
    "### Q2. Name the four pillars of OOPs."
   ]
  },
  {
   "cell_type": "markdown",
   "id": "25d5b355-0048-46a0-9e28-be5b2883eea7",
   "metadata": {},
   "source": [
    "1. Polymorphism \n",
    "2. Inheritance \n",
    "3. Encapsulation\n",
    "4. Abstraction"
   ]
  },
  {
   "cell_type": "markdown",
   "id": "da5e1471-0354-4a6c-a22c-84461bd5caf0",
   "metadata": {},
   "source": [
    "### Q3. Explain why the __init__() function is used. Give a suitable example."
   ]
  },
  {
   "cell_type": "code",
   "execution_count": 12,
   "id": "e5d04fd6-35a7-410d-9c77-a961782bc4c3",
   "metadata": {},
   "outputs": [
    {
     "data": {
      "text/plain": [
       "'Vedica'"
      ]
     },
     "execution_count": 12,
     "metadata": {},
     "output_type": "execute_result"
    }
   ],
   "source": [
    "# A constructor is a unique function that helps in building an object out of a class. \n",
    "# Here, using __init__ we are assigning values to the data members of that class when an object of the class is created\n",
    "\n",
    "class Person:\n",
    "    def __init__(self, name, age):\n",
    "        self.name = name\n",
    "        self.age = age\n",
    "\n",
    "per = Person(\"Vedica\", 20)\n",
    "per.name"
   ]
  },
  {
   "cell_type": "markdown",
   "id": "9f968fce-84eb-473b-985a-8240012d6c92",
   "metadata": {},
   "source": [
    "### Q4. Why self is used in OOPs?"
   ]
  },
  {
   "cell_type": "markdown",
   "id": "320aea82-1575-43e3-acfa-8423fccf4f5b",
   "metadata": {},
   "source": [
    "The self parameter is a reference to the current instance of the class, and is used to access variables that belong to the class."
   ]
  },
  {
   "cell_type": "markdown",
   "id": "33b9031c-3b8b-478e-b736-099e371f1c7e",
   "metadata": {},
   "source": [
    "### Q5. What is inheritance? Give an example for each type of inheritance."
   ]
  },
  {
   "cell_type": "markdown",
   "id": "d5d9af3d-5211-4875-a53c-07a27b2100e7",
   "metadata": {},
   "source": [
    "Inheritance is fundamental concept of object-oriented programming, allows us to define a class that inherits all the methods and properties from another class. "
   ]
  },
  {
   "cell_type": "code",
   "execution_count": 1,
   "id": "1b89b703-69fd-4636-a94e-bd57fd692a93",
   "metadata": {},
   "outputs": [
    {
     "data": {
      "text/plain": [
       "'pwskill'"
      ]
     },
     "execution_count": 1,
     "metadata": {},
     "output_type": "execute_result"
    }
   ],
   "source": [
    "# Single inheritance: child class inherits from only one parent class\n",
    "\n",
    "class test:\n",
    "    name = \"pwskill\"\n",
    "    \n",
    "class test2(test):\n",
    "    age = 23\n",
    "    \n",
    "t = test2\n",
    "t.name"
   ]
  },
  {
   "cell_type": "code",
   "execution_count": 2,
   "id": "5be97aaa-f8d9-435a-a54c-d55ac7f67cdc",
   "metadata": {},
   "outputs": [
    {
     "data": {
      "text/plain": [
       "23"
      ]
     },
     "execution_count": 2,
     "metadata": {},
     "output_type": "execute_result"
    }
   ],
   "source": [
    "# Multiple inheritances: When a child class inherits from multiple parent classes.\n",
    "class test1:\n",
    "    name = \"pwskill\"\n",
    "    \n",
    "class test2():\n",
    "    age = 23\n",
    "    \n",
    "class test3(test1, test2):\n",
    "    address = \"India\"\n",
    "    \n",
    "t3 = test3\n",
    "t3.age"
   ]
  },
  {
   "cell_type": "code",
   "execution_count": 3,
   "id": "eaae85b4-d748-4e80-8219-1eb5c9497a52",
   "metadata": {},
   "outputs": [
    {
     "data": {
      "text/plain": [
       "'pwskill'"
      ]
     },
     "execution_count": 3,
     "metadata": {},
     "output_type": "execute_result"
    }
   ],
   "source": [
    "t3.name"
   ]
  },
  {
   "cell_type": "code",
   "execution_count": 5,
   "id": "dcd1cf69-7a0c-4263-8d83-434249408bd0",
   "metadata": {},
   "outputs": [],
   "source": [
    "# Multilevel inheritance: child and grandchild relationship. \n",
    "#child class will inherit from its parent class, which in turn is inheriting from its parent class.\n",
    "\n",
    "class parent:\n",
    "    name = \"pwskill\"\n",
    "    \n",
    "class child(parent):\n",
    "    age = 23\n",
    "    \n",
    "class grandChild(child):\n",
    "    address = \"India\"\n",
    "    "
   ]
  },
  {
   "cell_type": "code",
   "execution_count": 6,
   "id": "e9eb0405-854d-4ca0-be91-cdaf8979edfe",
   "metadata": {},
   "outputs": [],
   "source": [
    "# Hierarchical inheritance: More than one derived class can be created from a single base.\n",
    "\n",
    "class parent:\n",
    "    name = \"pwskill\"\n",
    "    \n",
    "class child1(parent):\n",
    "    age = 23\n",
    "    \n",
    "class child2(parent):\n",
    "    address = \"India\""
   ]
  },
  {
   "cell_type": "code",
   "execution_count": null,
   "id": "93bbab31-ef94-4bd5-bef7-ac6a943080bb",
   "metadata": {},
   "outputs": [],
   "source": [
    "# Hybrid inheritance: combines more than one type of inheritance. \n",
    "\n",
    "class parent:\n",
    "    name = \"pwskill\"\n",
    "    \n",
    "class child1(parent):\n",
    "    age = 23\n",
    "    \n",
    "class child2(parent):\n",
    "    address = \"India\"\n",
    "\n",
    "class child3(child1, child2):\n",
    "    def func4(self):\n",
    "        print(\"This function is in student 3.\")"
   ]
  }
 ],
 "metadata": {
  "kernelspec": {
   "display_name": "Python 3 (ipykernel)",
   "language": "python",
   "name": "python3"
  },
  "language_info": {
   "codemirror_mode": {
    "name": "ipython",
    "version": 3
   },
   "file_extension": ".py",
   "mimetype": "text/x-python",
   "name": "python",
   "nbconvert_exporter": "python",
   "pygments_lexer": "ipython3",
   "version": "3.10.8"
  }
 },
 "nbformat": 4,
 "nbformat_minor": 5
}
