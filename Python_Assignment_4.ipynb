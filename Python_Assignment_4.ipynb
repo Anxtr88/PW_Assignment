{
 "cells": [
  {
   "cell_type": "markdown",
   "id": "72f5e716-8a24-4096-bff2-2c0a75cb69ab",
   "metadata": {},
   "source": [
    "#### Q1. Create a python program to sort the given list of tuples based on integer value using a lambda function \n",
    "#### [('Sachin Tendulkar', 34357), ('Ricky Ponting', 27483), ('Jack Kallis', 25534), ('Virat Kohli', 24936)]"
   ]
  },
  {
   "cell_type": "code",
   "execution_count": 9,
   "id": "66198f62-f31a-425e-9bd0-6b5e67581906",
   "metadata": {},
   "outputs": [
    {
     "name": "stdout",
     "output_type": "stream",
     "text": [
      "Sorted list:  [('Virat Kohli', 24936), ('Jack Kallis', 25534), ('Ricky Ponting', 27483), ('Sachin Tendulkar', 34357)]\n"
     ]
    }
   ],
   "source": [
    "list_value = [('Sachin Tendulkar', 34357), ('Ricky Ponting', 27483), ('Jack Kallis', 25534), ('Virat Kohli', 24936)]\n",
    "\n",
    "list_value.sort(key = lambda x : x[1])\n",
    "\n",
    "print(\"Sorted list: \", list_value)"
   ]
  },
  {
   "cell_type": "markdown",
   "id": "2037bff4-9d34-4210-b7be-688e28bd5127",
   "metadata": {},
   "source": [
    "#### Q2. Write a Python Program to find the squares of all the numbers in the given list of integers using lambda and map functions.  [1, 2, 3, 4, 5, 6, 7, 8, 9, 10]"
   ]
  },
  {
   "cell_type": "code",
   "execution_count": 1,
   "id": "bb079d5d-a286-4423-9285-7335e358c32a",
   "metadata": {},
   "outputs": [
    {
     "data": {
      "text/plain": [
       "[1, 4, 9, 16, 25, 36, 49, 64, 81, 100]"
      ]
     },
     "execution_count": 1,
     "metadata": {},
     "output_type": "execute_result"
    }
   ],
   "source": [
    "square = [1, 2, 3, 4, 5, 6, 7, 8, 9, 10]\n",
    "\n",
    "list(map(lambda a : a**2, square))"
   ]
  },
  {
   "cell_type": "markdown",
   "id": "86507814-c5e0-4b33-97ef-c65a19ce64ea",
   "metadata": {},
   "source": [
    "#### Q3. Write a python program to convert the given list of integers into a tuple of strings. Use map and lambda functions\n",
    "#### Given String: [1, 2, 3, 4, 5, 6, 7, 8, 9, 10]\n",
    "#### Expected output: ('1', '2', '3', '4', '5', '6', '7', '8', '9', '10')"
   ]
  },
  {
   "cell_type": "code",
   "execution_count": 3,
   "id": "32bf7661-9e08-4055-abfc-552dbd3a0700",
   "metadata": {},
   "outputs": [
    {
     "data": {
      "text/plain": [
       "('1', '2', '3', '4', '5', '6', '7', '8', '9', '10')"
      ]
     },
     "execution_count": 3,
     "metadata": {},
     "output_type": "execute_result"
    }
   ],
   "source": [
    "list_int =  [1, 2, 3, 4, 5, 6, 7, 8, 9, 10]\n",
    "\n",
    "tuple(map(lambda x: str(x), list_int))"
   ]
  },
  {
   "cell_type": "markdown",
   "id": "51d6e05c-97b6-4f61-9330-6fd769078f36",
   "metadata": {},
   "source": [
    "#### Q4. Write a python program using reduce function to compute the product of a list containing numbers from 1 to 25."
   ]
  },
  {
   "cell_type": "code",
   "execution_count": null,
   "id": "d58f9a33-1438-42d8-9b82-2f83e1b683de",
   "metadata": {},
   "outputs": [
    {
     "data": {
      "text/plain": [
       "15511210043330985984000000"
      ]
     },
     "execution_count": 4,
     "metadata": {},
     "output_type": "execute_result"
    }
   ],
   "source": [
    "from functools import  reduce\n",
    "l = range(1, 26)\n",
    "\n",
    "reduce(lambda x, y : x*y , l)"
   ]
  },
  {
   "cell_type": "markdown",
   "id": "70874e4f-daf0-4f5d-8f0d-f53a7e832b01",
   "metadata": {},
   "source": [
    "#### Q5. Write a python program to filter the numbers in a given list that are divisible by 2 and 3 using the filter function.\n",
    "#### [2, 3, 6, 9, 27, 60, 90, 120, 55, 46]"
   ]
  },
  {
   "cell_type": "code",
   "execution_count": 5,
   "id": "09e5e22c-b5fd-4681-b320-e0a4803a77ca",
   "metadata": {},
   "outputs": [
    {
     "data": {
      "text/plain": [
       "[2, 3, 6, 9, 27, 60, 90, 120, 46]"
      ]
     },
     "execution_count": 5,
     "metadata": {},
     "output_type": "execute_result"
    }
   ],
   "source": [
    "num = [2, 3, 6, 9, 27, 60, 90, 120, 55, 46]\n",
    "\n",
    "list(filter(lambda x : x if x % 2 == 0 else x % 3 == 0, num))"
   ]
  },
  {
   "cell_type": "markdown",
   "id": "b1c2d1f5-c1da-41f0-85a9-43ce841d4025",
   "metadata": {},
   "source": [
    "#### Q6. Write a python program to find palindromes in the given list of strings using lambda and filter function.\n",
    "#### ['python', 'php', 'aba', 'radar', 'level']"
   ]
  },
  {
   "cell_type": "code",
   "execution_count": 6,
   "id": "ea40e43a-69f3-4da0-93aa-67d5d790012a",
   "metadata": {},
   "outputs": [
    {
     "name": "stdout",
     "output_type": "stream",
     "text": [
      "Palindromes list:  ['php', 'aba', 'radar', 'level']\n"
     ]
    }
   ],
   "source": [
    "list_l = ['python', 'php', 'aba', 'radar', 'level']\n",
    "\n",
    "pln_dro = list(filter(lambda x : x == x[::-1], list_l))\n",
    "\n",
    "print(\"Palindromes list: \",pln_dro)"
   ]
  },
  {
   "cell_type": "code",
   "execution_count": null,
   "id": "b28985c3-6d33-4e7a-b891-b970b72e6434",
   "metadata": {},
   "outputs": [],
   "source": []
  }
 ],
 "metadata": {
  "kernelspec": {
   "display_name": "Python 3 (ipykernel)",
   "language": "python",
   "name": "python3"
  },
  "language_info": {
   "codemirror_mode": {
    "name": "ipython",
    "version": 3
   },
   "file_extension": ".py",
   "mimetype": "text/x-python",
   "name": "python",
   "nbconvert_exporter": "python",
   "pygments_lexer": "ipython3",
   "version": "3.10.8"
  }
 },
 "nbformat": 4,
 "nbformat_minor": 5
}
