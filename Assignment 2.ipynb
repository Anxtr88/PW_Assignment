{
 "cells": [
  {
   "cell_type": "markdown",
   "id": "54512618-4c82-4341-825a-923f7df21437",
   "metadata": {},
   "source": [
    "# Assignment 2 "
   ]
  },
  {
   "cell_type": "markdown",
   "id": "8e918441-06ce-489f-a4b8-788742b8f374",
   "metadata": {},
   "source": [
    "#### Q1. How do you comment code in Python? What are the different types of comments"
   ]
  },
  {
   "cell_type": "raw",
   "id": "40e68ee6-950c-4ba2-8252-20eae200eded",
   "metadata": {},
   "source": [
    "Answer: There are two different types of comments\n",
    "1. Single line comments - # or ##\n",
    "2. Multiline comments  - \"\"\"    \"\"\"  or '''   ''''"
   ]
  },
  {
   "cell_type": "code",
   "execution_count": null,
   "id": "d64a6f3a-836d-404c-8d22-ed1b3d9a707b",
   "metadata": {},
   "outputs": [
    {
     "name": "stdout",
     "output_type": "stream",
     "text": [
      "Hello, World!\n",
      "Hello, World!\n"
     ]
    }
   ],
   "source": [
    "#This is a comment\n",
    "print(\"Hello, World!\")\n",
    "\n",
    "\"\"\"this is a \n",
    "multiline comment \n",
    "written in more than one line\"\"\"\n",
    "\n",
    "print(\"Hello, World!\")"
   ]
  },
  {
   "cell_type": "markdown",
   "id": "a1b5ac1d-5b91-42c3-9c94-ecd8406f986e",
   "metadata": {},
   "source": [
    "#### Q2. What are variables in Python? How do you declare and assign values to variables?"
   ]
  },
  {
   "cell_type": "code",
   "execution_count": null,
   "id": "d2206b73-4a27-42b2-b137-17b7f7f90ed1",
   "metadata": {},
   "outputs": [],
   "source": [
    "Variable is a reserve mermory location which store data values, \n",
    "it is a symbolic name that is a reference to an object. \n",
    "\n",
    "\n",
    "x = 12\n",
    "y = 'str1'\n",
    "z = True\n",
    "a = 23.56"
   ]
  },
  {
   "cell_type": "markdown",
   "id": "3c4a65ed-cd74-4e8a-930e-0846c44b3028",
   "metadata": {},
   "source": [
    "#### Q3. How do you convert one data type to another in Python?"
   ]
  },
  {
   "cell_type": "code",
   "execution_count": 10,
   "id": "33b2dcb7-6aad-421f-9e6c-9bcc6bc247ab",
   "metadata": {},
   "outputs": [
    {
     "name": "stdout",
     "output_type": "stream",
     "text": [
      "<class 'str'>\n",
      "<class 'tuple'>\n"
     ]
    }
   ],
   "source": [
    "# Type casting\n",
    "\n",
    "value1 = \"convert str to int\"\n",
    "value2 = tuple(str)\n",
    "\n",
    "print(type(value1))\n",
    "print(type(value2))"
   ]
  },
  {
   "cell_type": "markdown",
   "id": "94df0c15-866d-42aa-84a1-fd9806fb5c03",
   "metadata": {},
   "source": [
    "#### Q4. How do you write and execute a Python script from the command line?"
   ]
  },
  {
   "cell_type": "raw",
   "id": "ea26c644-b937-40c1-a68a-9d65bfe53d9e",
   "metadata": {},
   "source": [
    "python script.py"
   ]
  },
  {
   "cell_type": "markdown",
   "id": "6ccc1cbf-dcd8-4f2b-abd4-270b11dceb0f",
   "metadata": {},
   "source": [
    "#### Q5. Given a list my_list = [1, 2, 3, 4, 5], write the code to slice the list and obtain the sub-list [2, 3]."
   ]
  },
  {
   "cell_type": "code",
   "execution_count": 10,
   "id": "af7c9e25-5c99-44c2-8df5-65584a7467cc",
   "metadata": {},
   "outputs": [
    {
     "data": {
      "text/plain": [
       "[2, 3]"
      ]
     },
     "execution_count": 10,
     "metadata": {},
     "output_type": "execute_result"
    }
   ],
   "source": [
    "my_list = [1, 2, 3, 4, 5]\n",
    "sub_list = my_list [1:3]\n",
    "sub_list"
   ]
  },
  {
   "cell_type": "markdown",
   "id": "32be49c1-42ab-425a-9d6a-4af42e83733f",
   "metadata": {},
   "source": [
    "#### Q6. What is a complex number in mathematics, and how is it represented in Python?"
   ]
  },
  {
   "cell_type": "raw",
   "id": "6c6be759-e4c7-42cf-8dd6-6b780eb19721",
   "metadata": {},
   "source": [
    "Complex number is a combination of real number & imaginery number, in math it is expressed as a + ib where\n",
    "a, b is real number & i is an imaginary number.\n",
    "\n",
    "In Python it is represented as \n",
    "e = 2 + 4j"
   ]
  },
  {
   "cell_type": "markdown",
   "id": "24f6f680-dd80-4f98-b84b-85605d2567d2",
   "metadata": {},
   "source": [
    "#### Q7. What is the correct way to declare a variable named age and assign the value 25 to it?"
   ]
  },
  {
   "cell_type": "code",
   "execution_count": 11,
   "id": "d63548f7-efa0-43e5-8b08-11878a7a28a2",
   "metadata": {},
   "outputs": [
    {
     "name": "stdout",
     "output_type": "stream",
     "text": [
      "25\n"
     ]
    }
   ],
   "source": [
    "age = 25\n",
    "\n",
    "print(age)"
   ]
  },
  {
   "cell_type": "markdown",
   "id": "286c6e9e-13ea-4c4b-bb59-30e7b9fcb878",
   "metadata": {},
   "source": [
    "#### Q8. Declare a variable named price and assign the value 9.99 to it. What data type does this variable belong to?"
   ]
  },
  {
   "cell_type": "code",
   "execution_count": 12,
   "id": "064cd8aa-b20e-4513-b960-0deb45a821c3",
   "metadata": {},
   "outputs": [
    {
     "data": {
      "text/plain": [
       "float"
      ]
     },
     "execution_count": 12,
     "metadata": {},
     "output_type": "execute_result"
    }
   ],
   "source": [
    "price = 9.99    # float data type\n",
    "type(price)"
   ]
  },
  {
   "cell_type": "markdown",
   "id": "3ae8d3e5-59b7-4622-a94f-0323605aea69",
   "metadata": {},
   "source": [
    "#### Q9.Create a variable named name and assign your full name to it as a string. How would you print the value of this variable?"
   ]
  },
  {
   "cell_type": "code",
   "execution_count": 38,
   "id": "7671a680-9c6d-4d1a-b1cd-c4c2d47b9e5a",
   "metadata": {},
   "outputs": [
    {
     "name": "stdout",
     "output_type": "stream",
     "text": [
      "My full name is Anster Mendonca\n",
      "My full name is Anster Mendonca\n",
      "My full name is Anster Mendonca\n"
     ]
    }
   ],
   "source": [
    "name = \"Anster Mendonca\"\n",
    "\n",
    "print(\"My full name is\", name)\n",
    "print(f\"My full name is {name}\")\n",
    "print(\"My full name is {}\".format(name))"
   ]
  },
  {
   "cell_type": "markdown",
   "id": "9cc97f0b-c1c6-43d6-87af-64e4060e0a0d",
   "metadata": {
    "tags": []
   },
   "source": [
    "#### Q10. Given the string \"Hello, World!\", extract the substring \"World\"."
   ]
  },
  {
   "cell_type": "code",
   "execution_count": 32,
   "id": "851e9620-e981-4fdf-8008-b0857170d1fe",
   "metadata": {},
   "outputs": [
    {
     "data": {
      "text/plain": [
       "'World'"
      ]
     },
     "execution_count": 32,
     "metadata": {},
     "output_type": "execute_result"
    }
   ],
   "source": [
    "a = \"Hello, World!\"\n",
    "a [-6:-1]    "
   ]
  },
  {
   "cell_type": "markdown",
   "id": "44906317-0b75-47c7-b803-0783c51a0af2",
   "metadata": {},
   "source": [
    "#### Q11. Create a variable named \"is_student\" and assign it a boolean value indicating whether you are currently a student or not."
   ]
  },
  {
   "cell_type": "code",
   "execution_count": 37,
   "id": "de8d10ee-600d-4465-ac83-d920c4e0372c",
   "metadata": {},
   "outputs": [
    {
     "name": "stdout",
     "output_type": "stream",
     "text": [
      "Not a student\n"
     ]
    }
   ],
   "source": [
    "is_student = False\n",
    "if is_student == True:\n",
    "    print(\"Currently a student\")\n",
    "else:\n",
    "    print(\"Not a student\")"
   ]
  }
 ],
 "metadata": {
  "kernelspec": {
   "display_name": "Python 3 (ipykernel)",
   "language": "python",
   "name": "python3"
  },
  "language_info": {
   "codemirror_mode": {
    "name": "ipython",
    "version": 3
   },
   "file_extension": ".py",
   "mimetype": "text/x-python",
   "name": "python",
   "nbconvert_exporter": "python",
   "pygments_lexer": "ipython3",
   "version": "3.10.8"
  }
 },
 "nbformat": 4,
 "nbformat_minor": 5
}
