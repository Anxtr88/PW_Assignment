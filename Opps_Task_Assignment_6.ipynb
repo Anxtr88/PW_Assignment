{
 "cells": [
  {
   "cell_type": "markdown",
   "id": "d7875b6e-4014-4a70-b4cf-e98634804089",
   "metadata": {},
   "source": [
    "### Q1, Create a vehicle class with an init method having instance variables as name_of_vehicle, max_speed and average_of_vehicle."
   ]
  },
  {
   "cell_type": "code",
   "execution_count": 8,
   "id": "190ce9f4-277e-4f82-94b0-ead40c81e52a",
   "metadata": {},
   "outputs": [],
   "source": [
    "class vehicle:\n",
    "    def __init__(self, name, speed, average):\n",
    "        # Instance variables\n",
    "        self.name_of_vehicle = name\n",
    "        self.max_speed = speed\n",
    "        self.average_of_vehicle = average\n",
    "    "
   ]
  },
  {
   "cell_type": "markdown",
   "id": "0369cbb3-17e7-491a-ab41-310f774717f0",
   "metadata": {},
   "source": [
    "### Q2. Create a child class car from the vehicle class created in Que 1, which will inherit the vehicle class. Create a method named seating_capacity which takes capacity as an argument and returns the name of the vehicle and its seating capacity."
   ]
  },
  {
   "cell_type": "code",
   "execution_count": 9,
   "id": "7623d167-121d-46af-8d20-376cdf9d3e12",
   "metadata": {},
   "outputs": [
    {
     "data": {
      "text/plain": [
       "(4, 'Audi')"
      ]
     },
     "execution_count": 9,
     "metadata": {},
     "output_type": "execute_result"
    }
   ],
   "source": [
    "class car(vehicle):\n",
    "    def seating_capacity(self, capacity):\n",
    "        return capacity, self.name_of_vehicle\n",
    "    \n",
    "c = car(\"Audi\", 250, 20)\n",
    "c.seating_capacity(4)"
   ]
  },
  {
   "cell_type": "markdown",
   "id": "5dd9d29e-8f8c-4457-9fad-af4f5e209dcc",
   "metadata": {},
   "source": [
    "### Q3. What is multiple inheritance? Write a python code to demonstrate multiple inheritance."
   ]
  },
  {
   "cell_type": "code",
   "execution_count": 11,
   "id": "624d4ed5-3115-43f2-a797-85a7b2f0f17f",
   "metadata": {},
   "outputs": [
    {
     "name": "stdout",
     "output_type": "stream",
     "text": [
      "This function is in parent 1.\n"
     ]
    }
   ],
   "source": [
    "# Multiple inheritances: When a child class inherits from multiple parent classes.\n",
    "\n",
    "class parent_1:\n",
    "    name = \"pwskill\"\n",
    "    def fun1(self):\n",
    "        print(\"This function is in parent 1.\")\n",
    "    \n",
    "class parent_2():\n",
    "    age = 23\n",
    "    def fun2(self):\n",
    "        print(\"This function is in parent 2.\")\n",
    "    \n",
    "class child(parent_1, parent_2):\n",
    "    address = \"India\"\n",
    "    def fun3(self):\n",
    "        print(\"This function is in child.\")\n",
    "\n",
    "c_obj = child()\n",
    "c_obj.fun1()"
   ]
  },
  {
   "cell_type": "markdown",
   "id": "066faf8b-729d-4fde-98e2-5f5bf3acf07d",
   "metadata": {},
   "source": [
    "### Q4. What are getter and setter in python? Create a class and create a getter and a setter method in this class."
   ]
  },
  {
   "cell_type": "code",
   "execution_count": 12,
   "id": "e8d029e6-d210-42cd-84ef-51dab8aed2ad",
   "metadata": {},
   "outputs": [
    {
     "data": {
      "text/plain": [
       "1000"
      ]
     },
     "execution_count": 12,
     "metadata": {},
     "output_type": "execute_result"
    }
   ],
   "source": [
    "# private variables cannot be accessed directly or modified by external user.\n",
    "# getter in python is used to access class private variable\n",
    "# setter in python is used to set the property value\n",
    "\n",
    "class bank_balance:\n",
    "    def __init__(self, balance):\n",
    "        self.__balance = balance\n",
    "        \n",
    "    @property\n",
    "    def amount_access(self):\n",
    "        return self.__balance\n",
    "    \n",
    "    @amount_access.setter\n",
    "    def amount(self, money):\n",
    "        if money <= 1000:\n",
    "            pass\n",
    "        else:\n",
    "            self.__balance = money\n",
    "            \n",
    "            \n",
    "bank = bank_balance(1000)\n",
    "bank.amount = 500\n",
    "bank.amount_access"
   ]
  },
  {
   "cell_type": "code",
   "execution_count": 13,
   "id": "68aa6bcf-cb56-4647-a520-1882ede8c078",
   "metadata": {},
   "outputs": [
    {
     "data": {
      "text/plain": [
       "1500"
      ]
     },
     "execution_count": 13,
     "metadata": {},
     "output_type": "execute_result"
    }
   ],
   "source": [
    "bank.amount = 1500\n",
    "bank.amount_access"
   ]
  },
  {
   "cell_type": "markdown",
   "id": "d00a8e4c-b035-40ac-92da-f62051f921de",
   "metadata": {},
   "source": [
    "### Q5.What is method overriding in python? Write a python code to demonstrate method overriding."
   ]
  },
  {
   "cell_type": "code",
   "execution_count": 4,
   "id": "0943249f-73e1-4bc5-82fa-ded020cd0443",
   "metadata": {},
   "outputs": [
    {
     "data": {
      "text/plain": [
       "12"
      ]
     },
     "execution_count": 4,
     "metadata": {},
     "output_type": "execute_result"
    }
   ],
   "source": [
    "'''Method overriding in python is when you have multiple methods with the same name as a method in its super-class \n",
    "then the method in the subclass is said to override the method in the super-class. \n",
    "Method overriding perform different bahaviour. ''''\n",
    "\n",
    "class student_1:\n",
    "    def __init__(self, age):\n",
    "        self.age = age\n",
    "        \n",
    "    def show(self):\n",
    "        return self.age\n",
    "    \n",
    "class student_2(student_1):\n",
    "    def show(self):\n",
    "        return self.age\n",
    "    \n",
    "stu1 = student_1(12)\n",
    "stu1.show()"
   ]
  },
  {
   "cell_type": "code",
   "execution_count": 5,
   "id": "43b3794d-10c7-4120-a974-4fa81bc9bcc4",
   "metadata": {},
   "outputs": [
    {
     "data": {
      "text/plain": [
       "25"
      ]
     },
     "execution_count": 5,
     "metadata": {},
     "output_type": "execute_result"
    }
   ],
   "source": [
    "stu2 = student_2(25)\n",
    "stu2.show()"
   ]
  }
 ],
 "metadata": {
  "kernelspec": {
   "display_name": "Python 3 (ipykernel)",
   "language": "python",
   "name": "python3"
  },
  "language_info": {
   "codemirror_mode": {
    "name": "ipython",
    "version": 3
   },
   "file_extension": ".py",
   "mimetype": "text/x-python",
   "name": "python",
   "nbconvert_exporter": "python",
   "pygments_lexer": "ipython3",
   "version": "3.10.8"
  }
 },
 "nbformat": 4,
 "nbformat_minor": 5
}
