{
 "cells": [
  {
   "cell_type": "markdown",
   "id": "7ac909ed-ed7a-41c4-8a7b-c01ebd418ad8",
   "metadata": {},
   "source": [
    "## Q1. Which keyword is used to create a function? Create a function to return a list of odd numbers in the range of 1 to 25."
   ]
  },
  {
   "cell_type": "code",
   "execution_count": 5,
   "id": "2ec49a1c-20e9-4668-8e0c-68c10d4cea87",
   "metadata": {},
   "outputs": [],
   "source": [
    "# def Keyword is used to create function\n",
    "def odd_number():\n",
    "    for i in range(1, 25):\n",
    "        if (i % 2 != 0):\n",
    "            print (i , \"is Odd numbers\")"
   ]
  },
  {
   "cell_type": "code",
   "execution_count": 6,
   "id": "f21f558c-8cb2-4358-a35d-1a135b345443",
   "metadata": {},
   "outputs": [
    {
     "name": "stdout",
     "output_type": "stream",
     "text": [
      "1 is Odd numbers\n",
      "3 is Odd numbers\n",
      "5 is Odd numbers\n",
      "7 is Odd numbers\n",
      "9 is Odd numbers\n",
      "11 is Odd numbers\n",
      "13 is Odd numbers\n",
      "15 is Odd numbers\n",
      "17 is Odd numbers\n",
      "19 is Odd numbers\n",
      "21 is Odd numbers\n",
      "23 is Odd numbers\n"
     ]
    }
   ],
   "source": [
    "odd_number()"
   ]
  },
  {
   "cell_type": "markdown",
   "id": "65fe61e2-8828-4ad2-a3fa-ac66f0bc0313",
   "metadata": {},
   "source": [
    "## Q2. Why *args and **kwargs is used in some functions? Create a function each for *args and **kwargs to demonstrate their use."
   ]
  },
  {
   "cell_type": "code",
   "execution_count": 4,
   "id": "7f13cd32-b823-43f5-ab2a-6889bdc38dc5",
   "metadata": {},
   "outputs": [],
   "source": [
    "# *args is used to pass a variable number of arguments to a function.\n",
    "# **kwargs is used to pass keyworded, variable-length argument list.\n",
    "\n",
    "def name(*args):\n",
    "    return args\n",
    "\n",
    "def myfunc(**kwargs):\n",
    "    return kwargs"
   ]
  },
  {
   "cell_type": "code",
   "execution_count": 2,
   "id": "6f226f89-e86b-43fb-b2f0-af662afb8b77",
   "metadata": {},
   "outputs": [
    {
     "data": {
      "text/plain": [
       "('James', 'Dan', 'Paul')"
      ]
     },
     "execution_count": 2,
     "metadata": {},
     "output_type": "execute_result"
    }
   ],
   "source": [
    "name(\"James\", \"Dan\", \"Paul\")"
   ]
  },
  {
   "cell_type": "code",
   "execution_count": 5,
   "id": "e2ab5a59-6d9b-43d2-af19-2087b06f34ff",
   "metadata": {},
   "outputs": [
    {
     "data": {
      "text/plain": [
       "{'fname': 'Amy', 'lname': 'Kole', 'id': 123}"
      ]
     },
     "execution_count": 5,
     "metadata": {},
     "output_type": "execute_result"
    }
   ],
   "source": [
    "myfunc(fname = 'Amy', lname = 'Kole', id = 123)"
   ]
  },
  {
   "cell_type": "markdown",
   "id": "36e823da-94ad-4e35-a3bc-1a53b0b5c44d",
   "metadata": {},
   "source": [
    "## Q3. What is an iterator in python? Name the method used to initialise the iterator object and the method used for iteration. Use these methods to print the first five elements of the given list [2, 4, 6, 8, 10, 12, 14, 16,18, 20]."
   ]
  },
  {
   "cell_type": "code",
   "execution_count": 10,
   "id": "1ba0b669-70b3-4388-bbaa-91d346464729",
   "metadata": {},
   "outputs": [
    {
     "name": "stdout",
     "output_type": "stream",
     "text": [
      "2\n",
      "4\n",
      "6\n",
      "8\n",
      "10\n"
     ]
    }
   ],
   "source": [
    "# Answer\n",
    "''' An iterator in Python is an object that allows you to traverse through all the elements of a \n",
    "collection and return one element at a time.'''\n",
    "\n",
    "# Method used for iterator __iter__() and __next__()\n",
    "\n",
    "#Example1: \n",
    "list1 = [2, 4, 6, 8, 10, 12, 14, 16,18, 20]\n",
    "# get an iterator using iter()\n",
    "iter1 = list1.__iter__()\n",
    "\n",
    "for i in range(0,5):\n",
    "    print(iter1.__next__())"
   ]
  },
  {
   "cell_type": "markdown",
   "id": "aedd4808-367c-4041-8e08-bd7726340966",
   "metadata": {},
   "source": [
    "## Q4. What is a generator function in python? Why yield keyword is used? Give an example of a generator function."
   ]
  },
  {
   "cell_type": "markdown",
   "id": "994344de-8d3f-4921-9a81-ac83c6ac5852",
   "metadata": {},
   "source": [
    "Answer: Generator functions allow to declare a function that behaves like an iterator it uses the Yield keyword rather than return to generate a value."
   ]
  },
  {
   "cell_type": "code",
   "execution_count": 3,
   "id": "8389752a-8333-484d-a108-84531b2497b0",
   "metadata": {},
   "outputs": [
    {
     "name": "stdout",
     "output_type": "stream",
     "text": [
      "0\n",
      "1\n",
      "1\n",
      "2\n",
      "3\n"
     ]
    }
   ],
   "source": [
    "def fibo(c):\n",
    "    a, b =  0,1\n",
    "    for i in range(c):\n",
    "        yield a\n",
    "        a, b = b , a+b\n",
    "\n",
    "for i in fibo(5):\n",
    "    print (i)"
   ]
  },
  {
   "cell_type": "markdown",
   "id": "0b689ad5-2cf1-46a2-99aa-cb2275a67f8f",
   "metadata": {},
   "source": [
    "## Q5. Create a generator function for prime numbers less than 1000. Use the next() method to print the first 20 prime numbers."
   ]
  },
  {
   "cell_type": "code",
   "execution_count": 4,
   "id": "65b72065-f3e2-49bc-8ff8-81f53b1345de",
   "metadata": {},
   "outputs": [
    {
     "name": "stdout",
     "output_type": "stream",
     "text": [
      "2\n",
      "3\n",
      "5\n",
      "7\n",
      "11\n",
      "13\n",
      "17\n",
      "19\n",
      "23\n",
      "29\n",
      "31\n",
      "37\n",
      "41\n",
      "43\n",
      "47\n",
      "53\n",
      "59\n",
      "61\n",
      "67\n",
      "71\n"
     ]
    }
   ],
   "source": [
    "def is_prime(num):\n",
    "    if num <= 1:\n",
    "        return False\n",
    "    if num <= 3:\n",
    "        return True\n",
    "    if num % 2 == 0 or num % 3 == 0:\n",
    "        return False\n",
    "    i = 5\n",
    "    while i * i <= num:\n",
    "        if num % i == 0 or num % (i + 2) == 0:\n",
    "            return False\n",
    "        i += 6\n",
    "    return True\n",
    "\n",
    "def prime_generator():\n",
    "    num = 2\n",
    "    while True:\n",
    "        if is_prime(num):\n",
    "            yield num\n",
    "        num += 1\n",
    "\n",
    "# Create a generator object\n",
    "prime_gen = prime_generator()\n",
    "\n",
    "# Print the first 20 prime numbers\n",
    "for _ in range(20):\n",
    "    print(next(prime_gen))\n",
    "    "
   ]
  },
  {
   "cell_type": "code",
   "execution_count": null,
   "id": "a18dc91a-a2b4-402d-857e-1c56cd504b79",
   "metadata": {},
   "outputs": [],
   "source": []
  }
 ],
 "metadata": {
  "kernelspec": {
   "display_name": "Python 3 (ipykernel)",
   "language": "python",
   "name": "python3"
  },
  "language_info": {
   "codemirror_mode": {
    "name": "ipython",
    "version": 3
   },
   "file_extension": ".py",
   "mimetype": "text/x-python",
   "name": "python",
   "nbconvert_exporter": "python",
   "pygments_lexer": "ipython3",
   "version": "3.10.8"
  },
  "toc-autonumbering": true,
  "toc-showcode": false,
  "toc-showmarkdowntxt": true,
  "toc-showtags": true
 },
 "nbformat": 4,
 "nbformat_minor": 5
}
