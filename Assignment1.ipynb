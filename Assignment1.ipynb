{
 "cells": [
  {
   "cell_type": "code",
   "execution_count": 2,
   "id": "f047a41a-37b0-4ec5-8e58-cf967793aa65",
   "metadata": {},
   "outputs": [],
   "source": [
    "\"\"\" Q1. Create one variable containing following type of data:\n",
    "\n",
    "(i) string\n",
    "\n",
    "(ii) list\n",
    "\n",
    "(iii) float\n",
    "\n",
    "(iv) tuple \"\"\"\n",
    "\n",
    "#Answer:\n",
    "data = ('pwskill', [12, 24, 'python'], 36.50, ('apple', 'iqoo', 'realme'))"
   ]
  },
  {
   "cell_type": "code",
   "execution_count": 30,
   "id": "7de5d23d-7966-4328-8689-be33bd463b7d",
   "metadata": {},
   "outputs": [
    {
     "name": "stdout",
     "output_type": "stream",
     "text": [
      "<class 'str'>\n",
      "<class 'str'>\n",
      "<class 'list'>\n",
      "<class 'int'>\n"
     ]
    }
   ],
   "source": [
    "''' Q2. Given are some following variables containing data:\n",
    "\n",
    "(i) var1 = ‘ ‘\n",
    "\n",
    "(ii) var2 = ‘[ DS , ML , Python]’\n",
    "\n",
    "(iii) var3 = [ ‘DS’ , ’ML’ , ‘Python’ ]\n",
    "\n",
    "(iv) var4 = 1. \n",
    "\n",
    "What will be the data type of the above given variable. '''\n",
    "\n",
    "\n",
    "#Answer:\n",
    "var1 = ' '\n",
    "var2 = '[ DS , ML , Python]'\n",
    "var3 = [ 'DS' , 'ML' , 'Python' ]\n",
    "var4 = 1 \n",
    "\n",
    "print (type(var1))\n",
    "print (type(var2))\n",
    "print (type(var3))\n",
    "print (type(var4))"
   ]
  },
  {
   "cell_type": "code",
   "execution_count": 29,
   "id": "a9e764b4-c89f-45e6-bd4b-74dddf7763d6",
   "metadata": {},
   "outputs": [
    {
     "name": "stdout",
     "output_type": "stream",
     "text": [
      "3.0\n",
      "1\n",
      "3\n",
      "512\n"
     ]
    }
   ],
   "source": [
    "'''Q3. Explain the use of the following operators using an example:\n",
    "\n",
    "(i) /\n",
    "(ii) %\n",
    "(iii) //\n",
    "(iv) **\n",
    " '''\n",
    "\n",
    "#Answer:\n",
    "#(i) / -  is an arithmatic operator which is used to divide the values.\n",
    "a = 12/4\n",
    "print (a)\n",
    "\n",
    "#(ii) % - Modulo it returns the reminder of a division \n",
    "x = 25\n",
    "y = 2\n",
    "print (x%y)\n",
    "\n",
    "#(iii) // - Floor division it round the result of the division to the nearest whole number\n",
    "q = 23\n",
    "d = 7\n",
    "print (q//d)\n",
    "\n",
    "#(iv) ** - it is used to raise the left number with the power of the number at the right\n",
    "power = 8**3\n",
    "print (power)  # 8*8*8"
   ]
  },
  {
   "cell_type": "code",
   "execution_count": 41,
   "id": "9c22a0c8-dadd-425e-9bd4-2e7c2b0ec14a",
   "metadata": {},
   "outputs": [
    {
     "name": "stdout",
     "output_type": "stream",
     "text": [
      "12\n",
      "<class 'int'>\n",
      "testdata\n",
      "<class 'str'>\n",
      "23.6565\n",
      "<class 'float'>\n",
      "True\n",
      "<class 'bool'>\n",
      "23\n",
      "<class 'int'>\n",
      "45\n",
      "<class 'int'>\n",
      "test2\n",
      "<class 'str'>\n",
      "32.434\n",
      "<class 'float'>\n",
      "False\n",
      "<class 'bool'>\n",
      "paul\n",
      "<class 'str'>\n"
     ]
    }
   ],
   "source": [
    "\"\"\" Q4. Create a list of length 10 of your choice containing multiple types of data. Using for loop print the\n",
    "element and its data type. \"\"\"\n",
    "\n",
    "#Answer:\n",
    "list = [ 12, 'testdata', 23.6565, True, 23, 45, 'test2', 32.434, False, 'paul']\n",
    "for i in list:\n",
    "    print(i)\n",
    "    print (type(i))"
   ]
  },
  {
   "cell_type": "code",
   "execution_count": 1,
   "id": "eef3ba23-204e-4c26-a518-13aec1916887",
   "metadata": {},
   "outputs": [
    {
     "name": "stdout",
     "output_type": "stream",
     "text": [
      "14 times it is divisible\n"
     ]
    }
   ],
   "source": [
    "\"\"\" Q5. Using a while loop, verify if the number A is purely divisible by number B and if so then how many\n",
    "times it can be divisible. \"\"\"\n",
    "\n",
    "#Answer:\n",
    "n = 14\n",
    "i = 4\n",
    "\n",
    "while i < n :\n",
    "    i = i + 1\n",
    "    if i % n == 0:\n",
    "        print (i, \"times it is divisible\")"
   ]
  },
  {
   "cell_type": "code",
   "execution_count": 45,
   "id": "3f977a30-c719-441e-a05f-9a4f0ec8e9c7",
   "metadata": {},
   "outputs": [
    {
     "name": "stdout",
     "output_type": "stream",
     "text": [
      "Element present in list are divisible by 3\n",
      "Element present in list are divisible by 3\n",
      "Element present in list are divisible by 3\n",
      "Element present in list are divisible by 3\n",
      "Element present in list are divisible by 3\n",
      "Element present in list are divisible by 3\n",
      "Element present in list are divisible by 3\n",
      "Element present in list are divisible by 3\n",
      "Element present in list are divisible by 3\n",
      "Element present in list are divisible by 3\n",
      "Element present in list are divisible by 3\n",
      "Element present in list are divisible by 3\n",
      "Element present in list are divisible by 3\n",
      "Element present in list are divisible by 3\n",
      "Element present in list are divisible by 3\n",
      "Element present in list are divisible by 3\n",
      "Element present in list are divisible by 3\n",
      "Element present in list are divisible by 3\n",
      "Element present in list are divisible by 3\n",
      "Element present in list are divisible by 3\n",
      "Element present in list are divisible by 3\n",
      "Element present in list are divisible by 3\n",
      "Element present in list are divisible by 3\n",
      "Element present in list are divisible by 3\n",
      "Element present in list are divisible by 3\n"
     ]
    }
   ],
   "source": [
    "\"\"\" Q6. Create a list containing 25 int type data. Using for loop and if-else condition print if the element is\n",
    "divisible by 3 or not. \"\"\"\n",
    "\n",
    "#Answer:\n",
    "l = [ 1,2,3,4,5,6,7,8,9,10,11,12,13,14,15,16,17,18,19,20,21,22,23,24,25 ]\n",
    "for j in l:\n",
    "    if j / 3 :\n",
    "        print (\"Element present in list are divisible by 3\")\n",
    "    else:\n",
    "        print (\"ELements in list are not divisible by 3\") "
   ]
  },
  {
   "cell_type": "code",
   "execution_count": 3,
   "id": "d51587ea-5c47-44a8-b5c9-65fb1d36e94d",
   "metadata": {},
   "outputs": [
    {
     "name": "stdout",
     "output_type": "stream",
     "text": [
      "['red', 'yellow', 'blue', 'white']\n",
      "['red', 'green', 'blue', 'white']\n",
      "python data science\n"
     ]
    },
    {
     "ename": "TypeError",
     "evalue": "'str' object does not support item assignment",
     "output_type": "error",
     "traceback": [
      "\u001b[0;31m---------------------------------------------------------------------------\u001b[0m",
      "\u001b[0;31mTypeError\u001b[0m                                 Traceback (most recent call last)",
      "Cell \u001b[0;32mIn[3], line 18\u001b[0m\n\u001b[1;32m     16\u001b[0m immutable \u001b[38;5;241m=\u001b[39m \u001b[38;5;124m'\u001b[39m\u001b[38;5;124mpython data science\u001b[39m\u001b[38;5;124m'\u001b[39m\n\u001b[1;32m     17\u001b[0m \u001b[38;5;28mprint\u001b[39m(immutable)\n\u001b[0;32m---> 18\u001b[0m \u001b[43mimmutable\u001b[49m\u001b[43m[\u001b[49m\u001b[38;5;241;43m0\u001b[39;49m\u001b[43m]\u001b[49m \u001b[38;5;241m=\u001b[39m \u001b[38;5;124m'\u001b[39m\u001b[38;5;124mengineer\u001b[39m\u001b[38;5;124m'\u001b[39m\n",
      "\u001b[0;31mTypeError\u001b[0m: 'str' object does not support item assignment"
     ]
    }
   ],
   "source": [
    "\"\"\" Q7. What do you understand about mutable and immutable data types? Give examples for both showing\n",
    "this property. \"\"\"\n",
    "\n",
    "#Answer:\n",
    "'''Mutable data type is where the value assigned to a variable can be modified after it is created.\n",
    "Example: List, Set '''\n",
    "\n",
    "colour = ['red', 'yellow', 'blue', 'white']\n",
    "print (colour)\n",
    "colour[1] = 'green'\n",
    "print (colour)\n",
    "\n",
    "'''Immutable data type is where the value assigned to a variable can not be changed after it is created. \n",
    "Example: String, Boolean, Interger'''\n",
    "\n",
    "immutable = 'python data science'\n",
    "print(immutable)\n",
    "immutable[0] = 'engineer'"
   ]
  }
 ],
 "metadata": {
  "kernelspec": {
   "display_name": "Python 3 (ipykernel)",
   "language": "python",
   "name": "python3"
  },
  "language_info": {
   "codemirror_mode": {
    "name": "ipython",
    "version": 3
   },
   "file_extension": ".py",
   "mimetype": "text/x-python",
   "name": "python",
   "nbconvert_exporter": "python",
   "pygments_lexer": "ipython3",
   "version": "3.10.8"
  }
 },
 "nbformat": 4,
 "nbformat_minor": 5
}
